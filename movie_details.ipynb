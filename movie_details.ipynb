{
 "cells": [
  {
   "cell_type": "code",
   "execution_count": 1,
   "metadata": {},
   "outputs": [],
   "source": [
    "# Dependencies and Setup\n",
    "import requests\n",
    "import json\n",
    "import pandas as pd\n",
    "\n",
    "# Import the API key\n",
    "from config import api_key"
   ]
  },
  {
   "cell_type": "code",
   "execution_count": 14,
   "metadata": {},
   "outputs": [
    {
     "name": "stdout",
     "output_type": "stream",
     "text": [
      "       0\n",
      "0  40096\n",
      "1     98\n",
      "2     77\n",
      "3    843\n",
      "4    641\n"
     ]
    }
   ],
   "source": [
    "# Get the list of movie IDs from 2000 to 2024 \n",
    "url = \"https://api.themoviedb.org/3/discover/movie\"\n",
    "movie_ids = []\n",
    "for year in range(2000, 2024):\n",
    "    for page in range(1, 11):\n",
    "        params = {\n",
    "            \"api_key\": api_key,\n",
    "            \"language\": \"en-US\",\n",
    "            \"sort_by\": \"vote_average.desc\",\n",
    "            \"page\": page,\n",
    "            \"primary_release_year\": year,\n",
    "            \"vote_count.gte\": 500,\n",
    "        }\n",
    "        response = requests.get(url, params=params)\n",
    "        data = response.json()\n",
    "        for movie in data[\"results\"]:\n",
    "            movie_ids.append(movie[\"id\"])\n",
    "\n",
    "# Put the movie IDs into a DataFrame\n",
    "movies_df = pd.DataFrame(movie_ids)\n",
    "print(movies_df.head())\n"
   ]
  },
  {
   "cell_type": "code",
   "execution_count": 15,
   "metadata": {},
   "outputs": [
    {
     "name": "stdout",
     "output_type": "stream",
     "text": [
      "4066\n"
     ]
    }
   ],
   "source": [
    "# Count the number of movie IDs\n",
    "print(len(movies_df))"
   ]
  },
  {
   "cell_type": "code",
   "execution_count": null,
   "metadata": {},
   "outputs": [
    {
     "name": "stdout",
     "output_type": "stream",
     "text": [
      "      id                 title    genre language release_date     budget  \\\n",
      "0  40096          A Dog's Will   Comedy       pt   2000-09-15          0   \n",
      "1     98             Gladiator   Action       en   2000-05-04  103000000   \n",
      "2     77               Memento  Mystery       en   2000-10-11    9000000   \n",
      "3    843  In the Mood for Love    Drama       cn   2000-09-29     150000   \n",
      "4    641   Requiem for a Dream    Crime       en   2000-10-06    4500000   \n",
      "\n",
      "     revenue  rating  vote_count  \n",
      "0    4903192   8.387         976  \n",
      "1  465361176   8.205       16317  \n",
      "2   39723096   8.190       13198  \n",
      "3   12854953   8.111        2175  \n",
      "4    7390108   8.033        8796  \n"
     ]
    }
   ],
   "source": [
    "# Using the movie ID, retrieve additional data such as movie title, genre, language, release date, budget, revenue, rating, vote count\n",
    "movie_list = []\n",
    "for i in movie_ids:\n",
    "    movie_id = i\n",
    "    url1 = f\"https://api.themoviedb.org/3/movie/{movie_id}\"\n",
    "    params = {\n",
    "            \"api_key\": api_key,\n",
    "        }\n",
    "    response1 = requests.get(url1, params=params)\n",
    "    data1 = response1.json()\n",
    "    movie_dict = {\"id\": data1['id'],\n",
    "                  \"title\": data1['title'],\n",
    "                  \"genre\":data1['genres'][0]['name'],\n",
    "                  \"language\": data1['original_language'],\n",
    "                  \"release_date\": data1['release_date'],\n",
    "                  \"budget\": data1[\"budget\"],\n",
    "                  \"revenue\": data1['revenue'],\n",
    "                  \"runtime\": data1['runtime'],\n",
    "                  \"movie_popularity\": data1['popularity'],\n",
    "                  \"rating\": data1['vote_average'],\n",
    "                  \"vote_count\": data1['vote_count']}\n",
    "    movie_list.append(movie_dict)\n",
    "\n",
    "# Put the movie details into a DataFrame and CSV file for loading into the SQL database\n",
    "movies_details_df = pd.DataFrame(movie_list)\n",
    "movies_details_df.to_csv(\"movies.csv\", index=False)\n",
    "print(movies_details_df.head())\n"
   ]
  },
  {
   "cell_type": "code",
   "execution_count": 17,
   "metadata": {},
   "outputs": [
    {
     "name": "stdout",
     "output_type": "stream",
     "text": [
      "4066\n"
     ]
    }
   ],
   "source": [
    "# Count the number of movie IDs to check movie details were retrieved for each movie ID\n",
    "print(len(movies_details_df))"
   ]
  },
  {
   "cell_type": "code",
   "execution_count": 18,
   "metadata": {},
   "outputs": [
    {
     "name": "stdout",
     "output_type": "stream",
     "text": [
      "id                int64\n",
      "title            object\n",
      "genre            object\n",
      "language         object\n",
      "release_date     object\n",
      "budget            int64\n",
      "revenue           int64\n",
      "rating          float64\n",
      "vote_count        int64\n",
      "dtype: object\n"
     ]
    }
   ],
   "source": [
    "# Check the data types of the retrieved data\n",
    "print(movies_details_df.dtypes)"
   ]
  },
  {
   "cell_type": "code",
   "execution_count": 19,
   "metadata": {},
   "outputs": [
    {
     "name": "stdout",
     "output_type": "stream",
     "text": [
      "      id               name  gender  popularity\n",
      "0  40096        Guel Arraes       2       0.732\n",
      "1     98       Ridley Scott       2      11.461\n",
      "2     77  Christopher Nolan       2      14.387\n",
      "3    843       Wong Kar-wai       2       9.716\n",
      "4    641   Darren Aronofsky       2       8.469\n"
     ]
    }
   ],
   "source": [
    "# Using the movie IDs, retrieve the director of each movie along with the gender and popularity\n",
    "directors_list=[]\n",
    "\n",
    "for i in movies_details_df[\"id\"]:\n",
    "    movie_id = i\n",
    "    url2 = f\"https://api.themoviedb.org/3/movie/{movie_id}/credits\"\n",
    "    params = {\n",
    "            \"api_key\": api_key,\n",
    "        }\n",
    "    response2 = requests.get(url2, params=params)\n",
    "    data2 = response2.json()\n",
    "    crew_list = data2['crew']\n",
    "    for n in crew_list:\n",
    "        if n['job'] == 'Director':\n",
    "            directors_dict = {\"id\": data2['id'],\n",
    "                            \"name\": n['name'],\n",
    "                            \"gender\": n['gender'],\n",
    "                            \"popularity\": n['popularity']}\n",
    "    directors_list.append(directors_dict)\n",
    "\n",
    "# Put the director info into a DataFrame and CSV file for loading into the SQL database\n",
    "directors_df = pd.DataFrame(directors_list)\n",
    "directors_df.to_csv(\"directors.csv\", index=False)\n",
    "print(directors_df.head())"
   ]
  },
  {
   "cell_type": "code",
   "execution_count": 20,
   "metadata": {},
   "outputs": [
    {
     "name": "stdout",
     "output_type": "stream",
     "text": [
      "id              int64\n",
      "name           object\n",
      "gender          int64\n",
      "popularity    float64\n",
      "dtype: object\n"
     ]
    }
   ],
   "source": [
    "# Check the data types of the retrieved data\n",
    "print(directors_df.dtypes)"
   ]
  },
  {
   "cell_type": "code",
   "execution_count": 21,
   "metadata": {},
   "outputs": [
    {
     "name": "stdout",
     "output_type": "stream",
     "text": [
      "4066\n"
     ]
    }
   ],
   "source": [
    "# Count the number of records in the director DataFrame\n",
    "print(len(directors_df))"
   ]
  },
  {
   "cell_type": "code",
   "execution_count": null,
   "metadata": {},
   "outputs": [],
   "source": []
  }
 ],
 "metadata": {
  "kernelspec": {
   "display_name": "myenv",
   "language": "python",
   "name": "python3"
  },
  "language_info": {
   "codemirror_mode": {
    "name": "ipython",
    "version": 3
   },
   "file_extension": ".py",
   "mimetype": "text/x-python",
   "name": "python",
   "nbconvert_exporter": "python",
   "pygments_lexer": "ipython3",
   "version": "3.10.9"
  },
  "orig_nbformat": 4
 },
 "nbformat": 4,
 "nbformat_minor": 2
}
