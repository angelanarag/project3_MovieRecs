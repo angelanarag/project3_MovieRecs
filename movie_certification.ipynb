{
 "cells": [
  {
   "cell_type": "code",
   "execution_count": 1,
   "metadata": {},
   "outputs": [],
   "source": [
    "# Dependencies and Setup\n",
    "import requests\n",
    "import json\n",
    "import pandas as pd\n",
    "\n",
    "# Import the API key\n",
    "from config import api_key"
   ]
  },
  {
   "cell_type": "code",
   "execution_count": 2,
   "metadata": {},
   "outputs": [
    {
     "name": "stdout",
     "output_type": "stream",
     "text": [
      "       0\n",
      "0  40096\n",
      "1     98\n",
      "2     77\n",
      "3    843\n",
      "4    641\n"
     ]
    }
   ],
   "source": [
    "# Get the list of movie IDs from 2000 to 2024 \n",
    "url = \"https://api.themoviedb.org/3/discover/movie\"\n",
    "movie_ids = []\n",
    "for year in range(2000, 2024):\n",
    "    for page in range(1, 11):\n",
    "        params = {\n",
    "            \"api_key\": api_key,\n",
    "            \"language\": \"en-US\",\n",
    "            \"sort_by\": \"vote_average.desc\",\n",
    "            \"page\": page,\n",
    "            \"primary_release_year\": year,\n",
    "            \"vote_count.gte\": 500,\n",
    "        }\n",
    "        response = requests.get(url, params=params)\n",
    "        data = response.json()\n",
    "        for movie in data[\"results\"]:\n",
    "            movie_ids.append(movie[\"id\"])\n",
    "\n",
    "# Put the movie IDs into a DataFrame\n",
    "movies_df = pd.DataFrame(movie_ids)\n",
    "print(movies_df.head())\n"
   ]
  },
  {
   "cell_type": "code",
   "execution_count": 3,
   "metadata": {},
   "outputs": [
    {
     "name": "stdout",
     "output_type": "stream",
     "text": [
      "4067\n"
     ]
    }
   ],
   "source": [
    "# Count the number of movie IDs\n",
    "print(len(movies_df))"
   ]
  },
  {
   "cell_type": "code",
   "execution_count": 19,
   "metadata": {},
   "outputs": [
    {
     "name": "stdout",
     "output_type": "stream",
     "text": [
      "    id iso_3166_1 certification\n",
      "0   98         US             R\n",
      "1   98         US             R\n",
      "2   77         US             R\n",
      "3  843         US            PG\n",
      "4  641         US             R\n"
     ]
    }
   ],
   "source": [
    "# Using the movie IDs, retrieve the director of each movie along with the gender and popularity\n",
    "cert_list=[]\n",
    "\n",
    "for i in movie_ids:\n",
    "    movie_id = i\n",
    "    url2 = f\"https://api.themoviedb.org/3/movie/{movie_id}/release_dates\"\n",
    "    params = {\n",
    "            \"api_key\": api_key,\n",
    "        }\n",
    "    response2 = requests.get(url2, params=params)\n",
    "    data2 = response2.json()\n",
    "    \n",
    "    # The results key is an array, so we need to loop through it\n",
    "    for release in data2['results']:\n",
    "        if release[\"iso_3166_1\"] == \"US\":\n",
    "            # The release_dates key is also an array, so we need to loop through it\n",
    "            for date in release['release_dates']:\n",
    "                # We can check the certification and append to the list if it's not empty\n",
    "                if date[\"type\"] == 3 and date[\"certification\"] != \"\":\n",
    "                    # We can create the dictionary with the correct keys\n",
    "                    dictionary = {\"id\": movie_id, \"iso_3166_1\": release[\"iso_3166_1\"], \"certification\": date[\"certification\"]}\n",
    "                    cert_list.append(dictionary)\n",
    "    \n",
    "    \n",
    "    # level1 = data2['results']\n",
    "    # for movie in level1:\n",
    "    #     if movie [\"iso_3166_1\"] == \"US\":\n",
    "    #         level2 = level1['release_dates']\n",
    "    #         for n in level2:\n",
    "    #             if n[\"type\"] == 3:\n",
    "    #                 dictionary = {\"id\": data2[\"id\"], \"location\": level1[\"iso_3166_1\"]}\n",
    "    #                 cert_list.append(dictionary)\n",
    "#     for n in results2:\n",
    "#         if n['iso_3166_1'] == 'US':\n",
    "#             cert_dict = {\"id\": data2['id']\n",
    "#                             # \"certification\": n['certification'],\n",
    "#                             # \"type\": n['type'],\n",
    "#                             # \"release_date\": n['release_date']\n",
    "#                             }\n",
    "#     cert_list.append(cert_dict)\n",
    "\n",
    "# # Put the director info into a DataFrame and CSV file for loading into the SQL database\n",
    "cert_df = pd.DataFrame(cert_list)\n",
    "# cert_df.to_csv(\"certification.csv\", index=False)\n",
    "print(cert_df.head())"
   ]
  },
  {
   "cell_type": "code",
   "execution_count": 20,
   "metadata": {},
   "outputs": [
    {
     "name": "stdout",
     "output_type": "stream",
     "text": [
      "id                int64\n",
      "iso_3166_1       object\n",
      "certification    object\n",
      "dtype: object\n"
     ]
    }
   ],
   "source": [
    "# Check the data types of the retrieved data\n",
    "cert_df.to_csv(\"certification.csv\", index=False)\n",
    "print(cert_df.dtypes)"
   ]
  },
  {
   "cell_type": "code",
   "execution_count": 21,
   "metadata": {},
   "outputs": [
    {
     "name": "stdout",
     "output_type": "stream",
     "text": [
      "4066\n"
     ]
    }
   ],
   "source": [
    "# Count the number of records in the director DataFrame\n",
    "print(len(cert_df))"
   ]
  },
  {
   "cell_type": "code",
   "execution_count": 22,
   "metadata": {},
   "outputs": [
    {
     "name": "stdout",
     "output_type": "stream",
     "text": [
      "    id iso_3166_1 certification\n",
      "0   98         US             R\n",
      "1   98         US             R\n",
      "2   77         US             R\n",
      "3  843         US            PG\n",
      "4  641         US             R\n"
     ]
    }
   ],
   "source": [
    "# Get certification\n",
    "# type 3 is Theater and type 4 is Digital, type 1 is Premiere and type 5 is Physical\n",
    "cert_list=[]\n",
    "\n",
    "for i in movie_ids:\n",
    "    movie_id = i\n",
    "    url2 = f\"https://api.themoviedb.org/3/movie/{movie_id}/release_dates\"\n",
    "    params = {\n",
    "            \"api_key\": api_key,\n",
    "        }\n",
    "    response2 = requests.get(url2, params=params)\n",
    "    data2 = response2.json()\n",
    "    \n",
    "    # The results key is an array, so we need to loop through it\n",
    "    for release in data2['results']:\n",
    "        if release[\"iso_3166_1\"] == \"US\":\n",
    "            # The release_dates key is also an array, so we need to loop through it\n",
    "            for date in release['release_dates']:\n",
    "                # We only include release dates with iso_3166_1 equal to \"US\"\n",
    "                if release[\"iso_3166_1\"] == \"US\":\n",
    "                    # If the certification is null for Type 3, include the certification for Type 4\n",
    "                    if date[\"type\"] == 3 and not date[\"certification\"]:\n",
    "                        for alt_date in release['release_dates']:\n",
    "                            if alt_date[\"type\"] == 4:\n",
    "                                # We can create the dictionary with the correct keys\n",
    "                                dictionary = {\"id\": movie_id, \"iso_3166_1\": release[\"iso_3166_1\"], \"certification\": alt_date[\"certification\"]}\n",
    "                                cert_list.append(dictionary)\n",
    "                                break\n",
    "                    # Otherwise, include the certification for Type 3\n",
    "                    elif date[\"type\"] == 3:\n",
    "                        # We can create the dictionary with the correct keys\n",
    "                        dictionary = {\"id\": movie_id, \"iso_3166_1\": release[\"iso_3166_1\"], \"certification\": date[\"certification\"]}\n",
    "                        cert_list.append(dictionary)\n",
    "\n",
    "# Put the certification info into a DataFrame and CSV file for loading into the SQL database\n",
    "cert2_df = pd.DataFrame(cert_list)\n",
    "cert2_df.to_csv(\"certifications2.csv\", index=False)\n",
    "print(cert2_df.head())\n"
   ]
  }
 ],
 "metadata": {
  "kernelspec": {
   "display_name": "myenv",
   "language": "python",
   "name": "python3"
  },
  "language_info": {
   "codemirror_mode": {
    "name": "ipython",
    "version": 3
   },
   "file_extension": ".py",
   "mimetype": "text/x-python",
   "name": "python",
   "nbconvert_exporter": "python",
   "pygments_lexer": "ipython3",
   "version": "3.10.9"
  },
  "orig_nbformat": 4
 },
 "nbformat": 4,
 "nbformat_minor": 2
}
